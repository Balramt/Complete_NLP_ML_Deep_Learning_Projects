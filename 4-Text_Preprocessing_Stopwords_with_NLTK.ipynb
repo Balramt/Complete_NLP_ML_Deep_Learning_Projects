{
 "cells": [
  {
   "cell_type": "code",
   "execution_count": 21,
   "id": "712c37df-311e-4b55-a36e-b38b719118b9",
   "metadata": {},
   "outputs": [],
   "source": [
    "## Speech Of DR APJ Abdul Kalam\n",
    "paragraph = \"\"\"I have three visions for India. In 3000 years of our history, people from all over \n",
    "               the world have come and invaded us, captured our lands, conquered our minds. \n",
    "               From Alexander onwards, the Greeks, the Turks, the Moguls, the Portuguese, the British,\n",
    "               the French, the Dutch, all of them came and looted us, took over what was ours. \n",
    "               Yet we have not done this to any other nation. We have not conquered anyone. \n",
    "               We have not grabbed their land, their culture, \n",
    "               their history and tried to enforce our way of life on them. \n",
    "               Why? Because we respect the freedom of others.That is why my \n",
    "               first vision is that of freedom. I believe that India got its first vision of \n",
    "               this in 1857, when we started the War of Independence. It is this freedom that\n",
    "               we must protect and nurture and build on. If we are not free, no one will respect us.\n",
    "               My second vision for India’s development. For fifty years we have been a developing nation.\n",
    "               It is time we see ourselves as a developed nation. We are among the top 5 nations of the world\n",
    "               in terms of GDP. We have a 10 percent growth rate in most areas. Our poverty levels are falling.\n",
    "               Our achievements are being globally recognised today. Yet we lack the self-confidence to\n",
    "               see ourselves as a developed nation, self-reliant and self-assured. Isn’t this incorrect?\n",
    "               I have a third vision. India must stand up to the world. Because I believe that unless India \n",
    "               stands up to the world, no one will respect us. Only strength respects strength. We must be \n",
    "               strong not only as a military power but also as an economic power. Both must go hand-in-hand. \n",
    "               My good fortune was to have worked with three great minds. Dr. Vikram Sarabhai of the Dept. of \n",
    "               space, Professor Satish Dhawan, who succeeded him and Dr. Brahm Prakash, father of nuclear material.\n",
    "               I was lucky to have worked with all three of them closely and consider this the great opportunity of my life. \n",
    "               I see four milestones in my career\"\"\""
   ]
  },
  {
   "cell_type": "code",
   "execution_count": 22,
   "id": "00782007-1b49-4e91-ab78-0317cd587fd2",
   "metadata": {},
   "outputs": [],
   "source": [
    "from nltk.stem import PorterStemmer"
   ]
  },
  {
   "cell_type": "code",
   "execution_count": 3,
   "id": "3e1064b4-a18d-4df8-95e1-a6ed93139d3d",
   "metadata": {},
   "outputs": [],
   "source": [
    "from nltk.corpus import stopwords"
   ]
  },
  {
   "cell_type": "code",
   "execution_count": 5,
   "id": "0a268d4f-8f92-4af5-9491-61791615de3e",
   "metadata": {},
   "outputs": [
    {
     "name": "stderr",
     "output_type": "stream",
     "text": [
      "[nltk_data] Downloading package stopwords to\n",
      "[nltk_data]     C:\\Users\\Dell\\AppData\\Roaming\\nltk_data...\n",
      "[nltk_data]   Package stopwords is already up-to-date!\n"
     ]
    },
    {
     "data": {
      "text/plain": [
       "True"
      ]
     },
     "execution_count": 5,
     "metadata": {},
     "output_type": "execute_result"
    }
   ],
   "source": [
    "import nltk\n",
    "nltk.download('stopwords') # this contail the different types of stopwords are download for the most of the language"
   ]
  },
  {
   "cell_type": "code",
   "execution_count": 10,
   "id": "b36d36e4-cf75-4a33-a952-a99707932b21",
   "metadata": {},
   "outputs": [],
   "source": [
    "#stopwords.words('english')"
   ]
  },
  {
   "cell_type": "code",
   "execution_count": 23,
   "id": "5bf7b30d-ab9f-4c6e-b163-0ddb25e12c09",
   "metadata": {},
   "outputs": [],
   "source": [
    "stemmer=PorterStemmer()"
   ]
  },
  {
   "cell_type": "code",
   "execution_count": 24,
   "id": "db5f2588-1a8e-4adb-9379-7f6889f6599b",
   "metadata": {},
   "outputs": [
    {
     "data": {
      "text/plain": [
       "['I have three visions for India.',\n",
       " 'In 3000 years of our history, people from all over \\n               the world have come and invaded us, captured our lands, conquered our minds.',\n",
       " 'From Alexander onwards, the Greeks, the Turks, the Moguls, the Portuguese, the British,\\n               the French, the Dutch, all of them came and looted us, took over what was ours.',\n",
       " 'Yet we have not done this to any other nation.',\n",
       " 'We have not conquered anyone.',\n",
       " 'We have not grabbed their land, their culture, \\n               their history and tried to enforce our way of life on them.',\n",
       " 'Why?',\n",
       " 'Because we respect the freedom of others.That is why my \\n               first vision is that of freedom.',\n",
       " 'I believe that India got its first vision of \\n               this in 1857, when we started the War of Independence.',\n",
       " 'It is this freedom that\\n               we must protect and nurture and build on.',\n",
       " 'If we are not free, no one will respect us.',\n",
       " 'My second vision for India’s development.',\n",
       " 'For fifty years we have been a developing nation.',\n",
       " 'It is time we see ourselves as a developed nation.',\n",
       " 'We are among the top 5 nations of the world\\n               in terms of GDP.',\n",
       " 'We have a 10 percent growth rate in most areas.',\n",
       " 'Our poverty levels are falling.',\n",
       " 'Our achievements are being globally recognised today.',\n",
       " 'Yet we lack the self-confidence to\\n               see ourselves as a developed nation, self-reliant and self-assured.',\n",
       " 'Isn’t this incorrect?',\n",
       " 'I have a third vision.',\n",
       " 'India must stand up to the world.',\n",
       " 'Because I believe that unless India \\n               stands up to the world, no one will respect us.',\n",
       " 'Only strength respects strength.',\n",
       " 'We must be \\n               strong not only as a military power but also as an economic power.',\n",
       " 'Both must go hand-in-hand.',\n",
       " 'My good fortune was to have worked with three great minds.',\n",
       " 'Dr. Vikram Sarabhai of the Dept.',\n",
       " 'of \\n               space, Professor Satish Dhawan, who succeeded him and Dr. Brahm Prakash, father of nuclear material.',\n",
       " 'I was lucky to have worked with all three of them closely and consider this the great opportunity of my life.',\n",
       " 'I see four milestones in my career']"
      ]
     },
     "execution_count": 24,
     "metadata": {},
     "output_type": "execute_result"
    }
   ],
   "source": [
    "sentences=nltk.sent_tokenize(paragraph)\n",
    "sentences"
   ]
  },
  {
   "cell_type": "code",
   "execution_count": 30,
   "id": "3dd58130-647a-42b1-b2f2-9899eee9707f",
   "metadata": {},
   "outputs": [],
   "source": [
    "## Apply Stopwords And Filter And then Apply Stemming\n",
    "porter_sentences=sentences\n",
    "for i in range(len(sentences)):\n",
    "    words=nltk.word_tokenize(sentences[i])\n",
    "    words=[stemmer.stem(word) for word in words if word not in set(stopwords.words('english'))]\n",
    "    porter_sentences[i]=' '.join(words)# converting all the list of words into sentences"
   ]
  },
  {
   "cell_type": "code",
   "execution_count": 31,
   "id": "85ab58a9-1300-44a3-8053-71fa9a220520",
   "metadata": {},
   "outputs": [
    {
     "data": {
      "text/plain": [
       "(list,\n",
       " ['i three vision india .',\n",
       "  'in 3000 year histori , peopl world come invad us , captur land , conquer mind .',\n",
       "  'from alexand onward , greek , turk , mogul , portugues , british , french , dutch , came loot us , took .',\n",
       "  'yet done nation .',\n",
       "  'we conquer anyon .',\n",
       "  'we grab land , cultur , histori tri enforc way life .',\n",
       "  'whi ?',\n",
       "  'becaus respect freedom others.that first vision freedom .',\n",
       "  'i believ india got first vision 1857 , start war independ .',\n",
       "  'it freedom must protect nurtur build .',\n",
       "  'if free , one respect us .',\n",
       "  'my second vision india ’ develop .',\n",
       "  'for fifti year develop nation .',\n",
       "  'it time see develop nation .',\n",
       "  'we among top 5 nation world term gdp .',\n",
       "  'we 10 percent growth rate area .',\n",
       "  'our poverti level fall .',\n",
       "  'our achiev global recognis today .',\n",
       "  'yet lack self-confid see develop nation , self-reli self-assur .',\n",
       "  'isn ’ incorrect ?',\n",
       "  'i third vision .',\n",
       "  'india must stand world .',\n",
       "  'becaus i believ unless india stand world , one respect us .',\n",
       "  'onli strength respect strength .',\n",
       "  'we must strong militari power also econom power .',\n",
       "  'both must go hand-in-hand .',\n",
       "  'my good fortun work three great mind .',\n",
       "  'dr. vikram sarabhai dept .',\n",
       "  'space , professor satish dhawan , succeed dr. brahm prakash , father nuclear materi .',\n",
       "  'i lucki work three close consid great opportun life .',\n",
       "  'i see four mileston career'])"
      ]
     },
     "execution_count": 31,
     "metadata": {},
     "output_type": "execute_result"
    }
   ],
   "source": [
    "type(porter_sentences),porter_sentences"
   ]
  },
  {
   "cell_type": "code",
   "execution_count": 32,
   "id": "2bd4f293-20a2-454d-9eef-a2e4b47e5c63",
   "metadata": {},
   "outputs": [],
   "source": [
    "from nltk.stem import SnowballStemmer\n",
    "snowballstemmer=SnowballStemmer('english')"
   ]
  },
  {
   "cell_type": "code",
   "execution_count": 34,
   "id": "798063e1-cb71-4b14-aeb2-0eac2fdb94cf",
   "metadata": {},
   "outputs": [],
   "source": [
    "## Apply Stopwords And Filter And then Apply Snowball Stemming\n",
    "snowball_sentences=sentences\n",
    "for i in range(len(sentences)):\n",
    "    words=nltk.word_tokenize(sentences[i])\n",
    "    words=[snowballstemmer.stem(word) for word in words if word not in set(stopwords.words('english'))]\n",
    "    snowball_sentences[i]=' '.join(words)# converting all the list of words into sentences"
   ]
  },
  {
   "cell_type": "code",
   "execution_count": 35,
   "id": "1a44be8c-baa8-404e-a83e-50d5172874d6",
   "metadata": {},
   "outputs": [
    {
     "data": {
      "text/plain": [
       "(list,\n",
       " ['three vision india .',\n",
       "  '3000 year histori , peopl world come invad us , captur land , conquer mind .',\n",
       "  'alexand onward , greek , turk , mogul , portugu , british , french , dutch , came loot us , took .',\n",
       "  'yet done nation .',\n",
       "  'conquer anyon .',\n",
       "  'grab land , cultur , histori tri enforc way life .',\n",
       "  'whi ?',\n",
       "  'becaus respect freedom others.that first vision freedom .',\n",
       "  'believ india got first vision 1857 , start war independ .',\n",
       "  'freedom must protect nurtur build .',\n",
       "  'free , one respect us .',\n",
       "  'second vision india ’ develop .',\n",
       "  'fifti year develop nation .',\n",
       "  'time see develop nation .',\n",
       "  'among top 5 nation world term gdp .',\n",
       "  '10 percent growth rate area .',\n",
       "  'poverti level fall .',\n",
       "  'achiev global recogni today .',\n",
       "  'yet lack self-confid see develop nation , self-r self-assur .',\n",
       "  '’ incorrect ?',\n",
       "  'third vision .',\n",
       "  'india must stand world .',\n",
       "  'becaus believ unless india stand world , one respect us .',\n",
       "  'on strength respect strength .',\n",
       "  'must strong militari power also econom power .',\n",
       "  'must go hand-in-hand .',\n",
       "  'good fortun work three great mind .',\n",
       "  'dr. vikram sarabhai dept .',\n",
       "  'space , professor satish dhawan , succeed dr. brahm prakash , father nuclear materi .',\n",
       "  'lucki work three close consid great opportun life .',\n",
       "  'see four mileston career'])"
      ]
     },
     "execution_count": 35,
     "metadata": {},
     "output_type": "execute_result"
    }
   ],
   "source": [
    "type(snowball_sentences),snowball_sentences"
   ]
  },
  {
   "cell_type": "code",
   "execution_count": 36,
   "id": "af687911-e11c-47e9-9593-9cc3f26efc4f",
   "metadata": {},
   "outputs": [],
   "source": [
    " from nltk.stem import WordNetLemmatizer\n",
    "lemmatizer=WordNetLemmatizer()"
   ]
  },
  {
   "cell_type": "code",
   "execution_count": 37,
   "id": "64dcfc5a-c4bf-4b2a-8831-5d45df670a37",
   "metadata": {},
   "outputs": [],
   "source": [
    "## Apply Stopwords And Filter And then Apply Snowball Stemming\n",
    "lemma_sentences=sentences\n",
    "for i in range(len(sentences)):\n",
    "    #sentences[i]=sentences[i].lower()\n",
    "    words=nltk.word_tokenize(sentences[i])\n",
    "    words=[lemmatizer.lemmatize(word.lower(),pos='v') for word in words if word not in set(stopwords.words('english'))]\n",
    "    lemma_sentences[i]=' '.join(words)# converting all the list of words into sentences"
   ]
  },
  {
   "cell_type": "code",
   "execution_count": 38,
   "id": "cf07f7b4-f30e-4b3a-b299-e114c72f92e1",
   "metadata": {},
   "outputs": [
    {
     "data": {
      "text/plain": [
       "['three vision india .',\n",
       " '3000 year histori , peopl world come invad us , captur land , conquer mind .',\n",
       " 'alexand onward , greek , turk , mogul , portugu , british , french , dutch , come loot us , take .',\n",
       " 'yet do nation .',\n",
       " 'conquer anyon .',\n",
       " 'grab land , cultur , histori tri enforc way life .',\n",
       " 'whi ?',\n",
       " 'becaus respect freedom others.that first vision freedom .',\n",
       " 'believ india get first vision 1857 , start war independ .',\n",
       " 'freedom must protect nurtur build .',\n",
       " 'free , one respect us .',\n",
       " 'second vision india ’ develop .',\n",
       " 'fifti year develop nation .',\n",
       " 'time see develop nation .',\n",
       " 'among top 5 nation world term gdp .',\n",
       " '10 percent growth rate area .',\n",
       " 'poverti level fall .',\n",
       " 'achiev global recogni today .',\n",
       " 'yet lack self-confid see develop nation , self-r self-assur .',\n",
       " '’ incorrect ?',\n",
       " 'third vision .',\n",
       " 'india must stand world .',\n",
       " 'becaus believ unless india stand world , one respect us .',\n",
       " 'strength respect strength .',\n",
       " 'must strong militari power also econom power .',\n",
       " 'must go hand-in-hand .',\n",
       " 'good fortun work three great mind .',\n",
       " 'dr. vikram sarabhai dept .',\n",
       " 'space , professor satish dhawan , succeed dr. brahm prakash , father nuclear materi .',\n",
       " 'lucki work three close consid great opportun life .',\n",
       " 'see four mileston career']"
      ]
     },
     "execution_count": 38,
     "metadata": {},
     "output_type": "execute_result"
    }
   ],
   "source": [
    "lemma_sentences"
   ]
  },
  {
   "cell_type": "code",
   "execution_count": null,
   "id": "23e30e13-91c8-4ac7-af78-ad11d1057eca",
   "metadata": {},
   "outputs": [],
   "source": []
  }
 ],
 "metadata": {
  "kernelspec": {
   "display_name": "Python 3 (ipykernel)",
   "language": "python",
   "name": "python3"
  },
  "language_info": {
   "codemirror_mode": {
    "name": "ipython",
    "version": 3
   },
   "file_extension": ".py",
   "mimetype": "text/x-python",
   "name": "python",
   "nbconvert_exporter": "python",
   "pygments_lexer": "ipython3",
   "version": "3.9.19"
  }
 },
 "nbformat": 4,
 "nbformat_minor": 5
}

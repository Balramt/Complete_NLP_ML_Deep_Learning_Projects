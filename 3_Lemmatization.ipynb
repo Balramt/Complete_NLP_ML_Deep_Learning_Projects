{
 "cells": [
  {
   "cell_type": "markdown",
   "id": "f6be4722-f222-47d6-bb70-dd0bddf3ad5c",
   "metadata": {},
   "source": [
    "### Wordnet Lemmatizer\n",
    "Lemmatization technique is like stemming. The output we will get after lemmatization is called ‘lemma’, which is a root word rather than root stem, the output of stemming. After lemmatization, we will be getting a valid word that means the same thing.\n",
    "\n",
    "NLTK provides WordNetLemmatizer class which is a thin wrapper around the wordnet corpus. This class uses morphy() function to the WordNet CorpusReader class to find a lemma. Let us understand it with an example −"
   ]
  },
  {
   "cell_type": "code",
   "execution_count": 1,
   "id": "c6930e64-f919-479f-b7dd-ea5e4ac1bfb4",
   "metadata": {},
   "outputs": [
    {
     "name": "stderr",
     "output_type": "stream",
     "text": [
      "C:\\Users\\Dell\\anaconda3\\lib\\site-packages\\scipy\\__init__.py:146: UserWarning: A NumPy version >=1.16.5 and <1.23.0 is required for this version of SciPy (detected version 1.24.3\n",
      "  warnings.warn(f\"A NumPy version >={np_minversion} and <{np_maxversion}\"\n"
     ]
    }
   ],
   "source": [
    "## Q&A,chatbots,text summarization\n",
    "from nltk.stem import WordNetLemmatizer"
   ]
  },
  {
   "cell_type": "code",
   "execution_count": 8,
   "id": "5eb84530-10bd-403d-a086-69c17457bb24",
   "metadata": {},
   "outputs": [
    {
     "name": "stderr",
     "output_type": "stream",
     "text": [
      "[nltk_data] Downloading package wordnet to\n",
      "[nltk_data]     C:\\Users\\Dell\\AppData\\Roaming\\nltk_data...\n"
     ]
    },
    {
     "data": {
      "text/plain": [
       "True"
      ]
     },
     "execution_count": 8,
     "metadata": {},
     "output_type": "execute_result"
    }
   ],
   "source": [
    "import nltk\n",
    "nltk.download('wordnet')"
   ]
  },
  {
   "cell_type": "code",
   "execution_count": 9,
   "id": "05b4eef1-85e6-48f6-97d9-5d2aac305416",
   "metadata": {},
   "outputs": [],
   "source": [
    "lemmatizer=WordNetLemmatizer()"
   ]
  },
  {
   "cell_type": "code",
   "execution_count": 13,
   "id": "4d90409d-2302-4ae4-85d8-878e892a6ba1",
   "metadata": {},
   "outputs": [
    {
     "data": {
      "text/plain": [
       "'going'"
      ]
     },
     "execution_count": 13,
     "metadata": {},
     "output_type": "execute_result"
    }
   ],
   "source": [
    "lemmatizer.lemmatize(\"going\")"
   ]
  },
  {
   "cell_type": "code",
   "execution_count": 11,
   "id": "2508cecb-cc3d-4674-aefc-337e1662111c",
   "metadata": {},
   "outputs": [
    {
     "data": {
      "text/plain": [
       "'go'"
      ]
     },
     "execution_count": 11,
     "metadata": {},
     "output_type": "execute_result"
    }
   ],
   "source": [
    "'''\n",
    "POS- Noun-n\n",
    "verb-v\n",
    "adjective-a\n",
    "adverb-r\n",
    "'''\n",
    "lemmatizer.lemmatize(\"going\",pos='v')"
   ]
  },
  {
   "cell_type": "code",
   "execution_count": 18,
   "id": "2e28d8f8-59cd-41c8-8354-3593d42c4511",
   "metadata": {},
   "outputs": [
    {
     "data": {
      "text/plain": [
       "'go'"
      ]
     },
     "execution_count": 18,
     "metadata": {},
     "output_type": "execute_result"
    }
   ],
   "source": [
    "lemmatizer.lemmatize(\"goes\",pos='v')"
   ]
  },
  {
   "cell_type": "code",
   "execution_count": 14,
   "id": "f1c624ba-8053-44c9-932e-215fce90edad",
   "metadata": {},
   "outputs": [],
   "source": [
    "words=[\"eating\",\"eats\",\"eaten\",\"writing\",\"writes\",\"programming\",\"programs\",\"history\",\"finally\",\"finalized\"]"
   ]
  },
  {
   "cell_type": "code",
   "execution_count": 16,
   "id": "e8397dc2-0a15-476c-81ad-1b5f36bb3542",
   "metadata": {},
   "outputs": [
    {
     "name": "stdout",
     "output_type": "stream",
     "text": [
      "eating------>eating\n",
      "eats------>eats\n",
      "eaten------>eaten\n",
      "writing------>writing\n",
      "writes------>writes\n",
      "programming------>programming\n",
      "programs------>program\n",
      "history------>history\n",
      "finally------>finally\n",
      "finalized------>finalized\n"
     ]
    }
   ],
   "source": [
    "for word in words:\n",
    "    print(word+ \"------>\"+lemmatizer.lemmatize(word, pos='n'))"
   ]
  },
  {
   "cell_type": "code",
   "execution_count": 17,
   "id": "648d40f2-6183-4eee-a541-9e12f38b1ec7",
   "metadata": {},
   "outputs": [
    {
     "name": "stdout",
     "output_type": "stream",
     "text": [
      "eating------>eat\n",
      "eats------>eat\n",
      "eaten------>eat\n",
      "writing------>write\n",
      "writes------>write\n",
      "programming------>program\n",
      "programs------>program\n",
      "history------>history\n",
      "finally------>finally\n",
      "finalized------>finalize\n"
     ]
    }
   ],
   "source": [
    "for word in words:\n",
    "    print(word+ \"------>\"+lemmatizer.lemmatize(word, pos='v'))"
   ]
  },
  {
   "cell_type": "code",
   "execution_count": 19,
   "id": "1fd04cc7-1d43-4c1b-ba7f-52ff47100c7b",
   "metadata": {},
   "outputs": [
    {
     "data": {
      "text/plain": [
       "('fairly', 'sportingly')"
      ]
     },
     "execution_count": 19,
     "metadata": {},
     "output_type": "execute_result"
    }
   ],
   "source": [
    " lemmatizer.lemmatize(\"fairly\",pos='v'),lemmatizer.lemmatize(\"sportingly\")"
   ]
  },
  {
   "cell_type": "code",
   "execution_count": null,
   "id": "f3822891-bc23-4258-b4dd-4251585b4909",
   "metadata": {},
   "outputs": [],
   "source": []
  },
  {
   "cell_type": "code",
   "execution_count": null,
   "id": "24f3cddd-8ab0-4aa4-8d9b-e795a9f6ed9b",
   "metadata": {},
   "outputs": [],
   "source": []
  },
  {
   "cell_type": "markdown",
   "id": "ea418a4a-4d77-4fee-a54f-f3e41679573c",
   "metadata": {},
   "source": [
    "###  Here's a table summarizing the key differences between **Stemming** and **Lemmatization**:\n",
    "\n",
    "| **Feature**            | **Stemming**                             | **Lemmatization**                          |\n",
    "|------------------------|------------------------------------------|--------------------------------------------|\n",
    "| **Definition**         | Reduces a word to its base or root form by removing suffixes and prefixes, often resulting in non-dictionary forms. | Reduces a word to its base or dictionary form, considering the word's context and part of speech. |\n",
    "| **Algorithm**          | Simple, rule-based algorithms (e.g., Porter, Snowball) that apply basic transformations to words. | More complex algorithms that require a dictionary (e.g., WordNet) and consider linguistic information. |\n",
    "| **Speed**              | Generally faster due to the simplicity of the rules and lack of context consideration. | Slower due to the need for dictionary lookups and more complex processing. |\n",
    "| **Accuracy**           | Less accurate; may produce stems that are not actual words (e.g., \"caring\" becomes \"car\"). | More accurate; returns valid words (e.g., \"caring\" becomes \"care\"). |\n",
    "| **Context Consideration** | Does not consider the context or part of speech of the word. | Considers the context and part of speech, allowing for more accurate results. |\n",
    "| **Output**             | May not be a valid word (e.g., \"happiness\" becomes \"happi\"). | Always returns a valid dictionary word (e.g., \"happiness\" becomes \"happy\"). |\n",
    "| **Use Cases**          | Useful in scenarios where speed is critical and the exact word form is less important (e.g., search engines). | Preferred in applications where linguistic accuracy is important (e.g., text analysis, chatbots). |\n",
    "| **Complexity**         | Low complexity, easy to implement and understand. | Higher complexity, requires additional resources like linguistic databases. |\n",
    "\n"
   ]
  },
  {
   "cell_type": "code",
   "execution_count": null,
   "id": "fd3cc67e-7911-4452-ac9f-b6c9391d7125",
   "metadata": {},
   "outputs": [],
   "source": []
  }
 ],
 "metadata": {
  "kernelspec": {
   "display_name": "Python 3 (ipykernel)",
   "language": "python",
   "name": "python3"
  },
  "language_info": {
   "codemirror_mode": {
    "name": "ipython",
    "version": 3
   },
   "file_extension": ".py",
   "mimetype": "text/x-python",
   "name": "python",
   "nbconvert_exporter": "python",
   "pygments_lexer": "ipython3",
   "version": "3.9.19"
  }
 },
 "nbformat": 4,
 "nbformat_minor": 5
}
